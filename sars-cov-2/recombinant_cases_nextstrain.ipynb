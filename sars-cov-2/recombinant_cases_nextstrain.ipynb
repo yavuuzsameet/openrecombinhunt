{
 "cells": [
  {
   "cell_type": "markdown",
   "metadata": {},
   "source": [
    "# Experiment context"
   ]
  },
  {
   "cell_type": "code",
   "execution_count": 13,
   "metadata": {},
   "outputs": [
    {
     "name": "stdout",
     "output_type": "stream",
     "text": [
      "/Users/yavuuzsameet/Desktop/polimi/tesi/recombinhunt-cov-7.0.0/fromzero\n"
     ]
    }
   ],
   "source": [
    "import os\n",
    "print(os.getcwd())"
   ]
  },
  {
   "cell_type": "code",
   "execution_count": 14,
   "metadata": {
    "collapsed": false,
    "jupyter": {
     "outputs_hidden": false
    }
   },
   "outputs": [],
   "source": [
    "from recombinhunt.core.method import *\n",
    "from recombinhunt.core.environment import Environment\n",
    "\n",
    "env = Environment(\"../environments/env_nextstrain_2025_06_30\")\n",
    "custom_environments = {\n",
    "    \"XBB\": env.copy_with_exclusions(ignore_lineage=[l for l in env.included_lineages() if l.startswith(\"XBB\") or any([sl in l for sl in (\"EG\", \"EK\", \"EL\", \"EM\", \"EU\", \"FD\", \"FE\", \"FG\", \"FH\", \"FL\")])]),\n",
    "    \"XBF\": env.copy_with_exclusions(ignore_lineage=[l for l in env.included_lineages() if l.startswith(\"XBF\")]),\n",
    "    \"XAY\": env.copy_with_exclusions(ignore_lineage=[l for l in env.included_lineages() if l.startswith(\"XAY\")]),\n",
    "    \"XP\": env.copy_with_exclusions(ignore_lineage=[l for l in env.included_lineages() if l.startswith(\"XBB\")])\n",
    "}"
   ]
  },
  {
   "cell_type": "markdown",
   "metadata": {},
   "source": [
    "# Preparation of test cases\n",
    "\n",
    "- generation of consensus sequence for each recombinant case\n",
    "- collection of PANGO-suggested breakpoint positions and recombination candidates to compare with RecombinHunt's output"
   ]
  },
  {
   "cell_type": "code",
   "execution_count": 15,
   "metadata": {},
   "outputs": [
    {
     "name": "stderr",
     "output_type": "stream",
     "text": [
      "WARNING:root:Corrections applied to alias_key.json suggested by Pango issues:\n",
      "WARNING:root:XA ['B.1.1.7', 'B.1.177'] -> ['B.1.177', 'B.1.1.7']\n",
      "WARNING:root:XD ['B.1.617.2*', 'BA.1*'] -> ['B.1.617.2*', 'BA.1*', 'B.1.617.2*']\n",
      "WARNING:root:XAW ['BA.2*', 'AY.122'] -> ['AY.122', 'BA.2*', 'AY.122']\n",
      "WARNING:root:XBU ['BA.2.75.3', 'BQ.1', 'BA.2.75.3'] -> ['BA.2.75*', 'BQ.1*', 'BA.2.75*']\n",
      "WARNING:root:XBD ['BA.2.75.2', 'BF.5'] -> ['BA.2.75.2', 'BA.5.2.1']\n",
      "WARNING:root:XBE ['BA.5.2', 'BE.4.1'] -> ['BA.5.2*', 'BE.4.1']\n",
      "WARNING:root:XBF ['BA.5.2*', 'CJ.1'] -> ['BA.5.2', 'CJ.1']\n",
      "WARNING:root:XBJ ['BA.2.3.20', 'BA.5.2'] -> ['BA.2.3.20', 'BA.5.2*']\n"
     ]
    }
   ],
   "source": [
    "import json\n",
    "from recombinhunt.core.environment import PangoLineageHierarchy\n",
    "from recombinhunt.validation.utils import *\n",
    "\n",
    "# GROUND TRUTH\n",
    "lh = PangoLineageHierarchy(\"./validation_data/alias_key.json\")\n",
    "cl = AssessedContributingLin(\"./validation_data/alias_key.json\")\n",
    "\n",
    "\n",
    "# NUMBER OF SEQUENCES PER CASE\n",
    "with open(\"./demo_input_nextstrain/samples_total.json\") as inp:\n",
    "    number_of_sequences_by_rec_case = json.load(inp)\n"
   ]
  },
  {
   "cell_type": "code",
   "execution_count": 16,
   "metadata": {},
   "outputs": [
    {
     "name": "stdout",
     "output_type": "stream",
     "text": [
      "Cases with 1 breakpoint: \n",
      "['XAA', 'XAB', 'XAD', 'XAE', 'XAF', 'XAG', 'XAH', 'XAL', 'XAM', 'XAN', 'XAP', 'XAS', 'XAT', 'XAU', 'XAV', 'XB', 'XBB', 'XBD', 'XBE', 'XBF', 'XBG', 'XBH', 'XBJ', 'XBM', 'XBP', 'XBR', 'XBW', 'XE', 'XG', 'XH', 'XJ', 'XL', 'XM', 'XN', 'XQ', 'XS', 'XU', 'XW', 'XY', 'XZ']\n",
      "\n",
      "Cases with 2 breakpoints: \n",
      "['XAC', 'XAK', 'XAZ', 'XBL', 'XBT', 'XBU', 'XD']\n",
      "\n",
      "Cases with 3+ breakpoints or inaccurate candidates/breakpoints: \n",
      "['XAJ', 'XBK', 'XBN', 'XBV', 'XBZ', 'XCA', 'XCC', 'XCE', 'XCF', 'XCG', 'XCH', 'XCJ', 'XCK', 'XCL', 'XCM', 'XCP', 'XCQ', 'XCR', 'XCT', 'XCU', 'XCV', 'XCW', 'XCY', 'XCZ', 'XDA', 'XDB', 'XDC', 'XDD', 'XDE', 'XDG', 'XDH', 'XDK', 'XDL', 'XDN', 'XDP', 'XDQ', 'XDR', 'XDV', 'XDY', 'XEB', 'XEC', 'XED', 'XEE', 'XEF', 'XEG', 'XEH', 'XEK', 'XEL', 'XEM', 'XEN', 'XEP']\n"
     ]
    }
   ],
   "source": [
    "# CASE CLASSIFICATION\n",
    "cases_1BP = [l for l in number_of_sequences_by_rec_case.keys() if BreakpointsLocation.breakpoints_num(l) == 1 and BreakpointsLocation.ith_breakpoint(l, 0)[0] != 0]\n",
    "cases_2BP = [l for l in number_of_sequences_by_rec_case.keys() if BreakpointsLocation.breakpoints_num(l) == 2 and BreakpointsLocation.ith_breakpoint(l, 0)[0] != 0]\n",
    "# collect cases with 3+ breakpoints and inaccurate candidates/breakpoints\n",
    "cases_oth = [l for l in number_of_sequences_by_rec_case.keys() if BreakpointsLocation.breakpoints_num(l) == 0 or BreakpointsLocation.breakpoints_num(l) > 2 or BreakpointsLocation.ith_breakpoint(l, 0)[0] == 0]\n",
    "\n",
    "print(f\"Cases with 1 breakpoint: \\n{cases_1BP}\")\n",
    "print()\n",
    "print(f\"Cases with 2 breakpoints: \\n{cases_2BP}\")\n",
    "print()\n",
    "print(f\"Cases with 3+ breakpoints or inaccurate candidates/breakpoints: \\n{cases_oth}\")"
   ]
  },
  {
   "cell_type": "code",
   "execution_count": 17,
   "metadata": {
    "collapsed": false,
    "jupyter": {
     "outputs_hidden": false
    }
   },
   "outputs": [
    {
     "name": "stdout",
     "output_type": "stream",
     "text": [
      "40 7 51\n"
     ]
    }
   ],
   "source": [
    "# TARGET OF CASE (consensus sequence)\n",
    "case2target = dict()\n",
    "for case in cases_1BP + cases_2BP + cases_oth:\n",
    "    this_case_sequences_str = []\n",
    "    with open(f\"./demo_input_nextstrain/samples_{case}.csv\") as inp:\n",
    "        inp.readline()\n",
    "        for line in inp.readlines():\n",
    "            name, true_lin, nuc_changes = line.rstrip('\\n').split('\\t')\n",
    "            this_case_sequences_str.append(nuc_changes)\n",
    "    case2target[case] = [\"avg75\", case, compute_75_perc_characterization(strings=this_case_sequences_str)]\n",
    "\n",
    "\n",
    "def group_of_rec_case(rec_lineage, target_seq: list):\n",
    "    if BreakpointsLocation.breakpoints_num(rec_lineage) == 2:\n",
    "        return \"2BP\"\n",
    "    elif BreakpointsLocation.breakpoints_num(rec_lineage) == 1:\n",
    "        t_br_start, t_br_end = BreakpointsLocation.to_target_pos(BreakpointsLocation.ith_breakpoint(rec_lineage, 0), target_seq)\n",
    "        t_len = len(target_seq)\n",
    "        if t_br_start >= 10 and t_br_end <= (t_len - 10):\n",
    "            return \"1BP mid\"\n",
    "        elif t_br_start < 10:\n",
    "            return \"1BP 5'\"\n",
    "        else:\n",
    "            return \"1BP 3'\"\n",
    "    else:\n",
    "        return \"?\"\n",
    "\n",
    "cases_1BP_mid = [c for c in cases_1BP if group_of_rec_case(c, case2target[c][-1]) == '1BP mid']\n",
    "cases_1BP_5p = [c for c in cases_1BP if group_of_rec_case(c, case2target[c][-1]) == '1BP 5\\'']\n",
    "cases_1BP_3p = [c for c in cases_1BP if group_of_rec_case(c, case2target[c][-1]) == '1BP 3\\'']\n",
    "\n",
    "\n",
    "print(len(cases_1BP), len(cases_2BP), len(cases_oth))\n"
   ]
  },
  {
   "cell_type": "code",
   "execution_count": 19,
   "metadata": {},
   "outputs": [],
   "source": [
    "output_dir = './experiment_results'\n",
    "os.makedirs(output_dir, exist_ok=True)\n",
    "\n",
    "old_lineages_txt_path = os.path.join(output_dir, 'sarscov2-experiment-results(old-lineages).txt')\n",
    "new_lineages_txt_path = os.path.join(output_dir, 'sarscov2-experiment-results(new-lineages).txt')\n",
    "\n",
    "old_lineages_html_path = os.path.join(output_dir, 'sarscov2-experiment-details(old-lineages).html')\n",
    "new_lineages_html_path = os.path.join(output_dir, 'sarscov2-experiment-details(new-lineages).html')\n",
    "\n",
    "old_lineages_comparison_path = os.path.join(output_dir, 'sarscov2-experiment-comparison(old-lineages).txt')\n",
    "new_lineages_comparison_path = os.path.join(output_dir, 'sarscov2-experiment-comparison(new-lineages).txt')"
   ]
  },
  {
   "cell_type": "markdown",
   "metadata": {
    "collapsed": false,
    "jupyter": {
     "outputs_hidden": false
    }
   },
   "source": [
    "# Run of experiments and validation"
   ]
  },
  {
   "cell_type": "code",
   "execution_count": 20,
   "metadata": {},
   "outputs": [
    {
     "data": {
      "text/plain": [
       "51"
      ]
     },
     "execution_count": 20,
     "metadata": {},
     "output_type": "execute_result"
    }
   ],
   "source": [
    "OLD_LINEAGES = [\"XA\", \"XAD\", \"XAE\", \"XAL\", \"XAN\", \"XAP\", \"XAT\", \"XAV\", \"XBB\", \"XBD\", \"XBE\", \"XBF\", \"XBG\", \"XBH\", \"XBJ\", \"XBM\", \"XBR\", \"XBP\", \"XBW\", \"XJ\", \"XM\", \"XV\", \"XY\", \"XZ\", \"XAA\", \"XAB\", \"XAF\", \"XAG\", \"XAM\", \"XAR\", \"XAU\", \"XF\", \"XE\", \"XG\", \"XH\", \"XN\", \"XL\", \"XQ\", \"XR\", \"XS\", \"XW\", \"XU\", \"XAH\", \"XP\", \"XAC\", \"XAK\", \"XAZ\", \"XBL\", \"XBT\", \"XBU\", \"XD\"]\n",
    "length_of_old_lineages = len(OLD_LINEAGES)\n",
    "length_of_old_lineages"
   ]
  },
  {
   "cell_type": "code",
   "execution_count": 21,
   "metadata": {},
   "outputs": [],
   "source": [
    "with open('./validation_data/alias_key.json') as f:\n",
    "    alias_key = json.load(f)"
   ]
  },
  {
   "cell_type": "code",
   "execution_count": 22,
   "metadata": {},
   "outputs": [
    {
     "name": "stdout",
     "output_type": "stream",
     "text": [
      "Starting formal checks of the environment...\n"
     ]
    }
   ],
   "source": [
    "env.assert_valid()"
   ]
  },
  {
   "cell_type": "code",
   "execution_count": null,
   "metadata": {
    "collapsed": false,
    "jupyter": {
     "outputs_hidden": false
    }
   },
   "outputs": [
    {
     "name": "stderr",
     "output_type": "stream",
     "text": [
      "  2%|▏         | 2/98 [00:00<00:43,  2.20it/s]"
     ]
    },
    {
     "name": "stdout",
     "output_type": "stream",
     "text": [
      "Analysing case XAD (1/98) with 14 sequences, group: 1BP mid\n"
     ]
    },
    {
     "name": "stderr",
     "output_type": "stream",
     "text": [
      "  3%|▎         | 3/98 [00:01<00:57,  1.66it/s]"
     ]
    },
    {
     "name": "stdout",
     "output_type": "stream",
     "text": [
      "Analysing case XAE (2/98) with 15 sequences, group: 1BP mid\n"
     ]
    },
    {
     "name": "stderr",
     "output_type": "stream",
     "text": [
      "  4%|▍         | 4/98 [00:02<01:01,  1.53it/s]"
     ]
    },
    {
     "name": "stdout",
     "output_type": "stream",
     "text": [
      "Analysing case XAL (3/98) with 30 sequences, group: 1BP mid\n"
     ]
    },
    {
     "name": "stderr",
     "output_type": "stream",
     "text": [
      "  5%|▌         | 5/98 [00:03<01:02,  1.48it/s]"
     ]
    },
    {
     "name": "stdout",
     "output_type": "stream",
     "text": [
      "Analysing case XAN (4/98) with 11 sequences, group: 1BP mid\n"
     ]
    },
    {
     "name": "stderr",
     "output_type": "stream",
     "text": [
      "  6%|▌         | 6/98 [00:04<01:08,  1.34it/s]"
     ]
    },
    {
     "name": "stdout",
     "output_type": "stream",
     "text": [
      "Analysing case XAP (5/98) with 36 sequences, group: 1BP mid\n"
     ]
    },
    {
     "name": "stderr",
     "output_type": "stream",
     "text": [
      "  7%|▋         | 7/98 [00:04<01:10,  1.29it/s]"
     ]
    },
    {
     "name": "stdout",
     "output_type": "stream",
     "text": [
      "Analysing case XAS (6/98) with 167 sequences, group: 1BP mid\n"
     ]
    },
    {
     "name": "stderr",
     "output_type": "stream",
     "text": [
      "  8%|▊         | 8/98 [00:05<01:09,  1.30it/s]"
     ]
    },
    {
     "name": "stdout",
     "output_type": "stream",
     "text": [
      "Analysing case XAT (7/98) with 2 sequences, group: 1BP mid\n"
     ]
    },
    {
     "name": "stderr",
     "output_type": "stream",
     "text": [
      "  9%|▉         | 9/98 [00:06<01:05,  1.36it/s]"
     ]
    },
    {
     "name": "stdout",
     "output_type": "stream",
     "text": [
      "Analysing case XAV (8/98) with 14 sequences, group: 1BP mid\n"
     ]
    },
    {
     "name": "stderr",
     "output_type": "stream",
     "text": [
      " 10%|█         | 10/98 [00:06<01:02,  1.42it/s]"
     ]
    },
    {
     "name": "stdout",
     "output_type": "stream",
     "text": [
      "Analysing case XB (9/98) with 523 sequences, group: 1BP mid\n"
     ]
    },
    {
     "name": "stderr",
     "output_type": "stream",
     "text": [
      " 11%|█         | 11/98 [00:07<01:00,  1.44it/s]"
     ]
    },
    {
     "name": "stdout",
     "output_type": "stream",
     "text": [
      "Analysing case XBB (10/98) with 91 sequences, group: 1BP mid\n"
     ]
    },
    {
     "name": "stderr",
     "output_type": "stream",
     "text": [
      " 12%|█▏        | 12/98 [00:08<01:03,  1.35it/s]"
     ]
    },
    {
     "name": "stdout",
     "output_type": "stream",
     "text": [
      "Analysing case XBD (11/98) with 54 sequences, group: 1BP mid\n"
     ]
    },
    {
     "name": "stderr",
     "output_type": "stream",
     "text": [
      " 13%|█▎        | 13/98 [00:09<01:06,  1.29it/s]"
     ]
    },
    {
     "name": "stdout",
     "output_type": "stream",
     "text": [
      "Analysing case XBE (12/98) with 97 sequences, group: 1BP mid\n"
     ]
    },
    {
     "name": "stderr",
     "output_type": "stream",
     "text": [
      " 14%|█▍        | 14/98 [00:10<01:05,  1.29it/s]"
     ]
    },
    {
     "name": "stdout",
     "output_type": "stream",
     "text": [
      "Analysing case XBF (13/98) with 153 sequences, group: 1BP mid\n"
     ]
    },
    {
     "name": "stderr",
     "output_type": "stream",
     "text": [
      " 15%|█▌        | 15/98 [00:10<01:06,  1.25it/s]"
     ]
    },
    {
     "name": "stdout",
     "output_type": "stream",
     "text": [
      "Analysing case XBG (14/98) with 11 sequences, group: 1BP mid\n"
     ]
    },
    {
     "name": "stderr",
     "output_type": "stream",
     "text": [
      " 16%|█▋        | 16/98 [00:11<01:04,  1.27it/s]"
     ]
    },
    {
     "name": "stdout",
     "output_type": "stream",
     "text": [
      "Analysing case XBH (15/98) with 2 sequences, group: 1BP mid\n"
     ]
    },
    {
     "name": "stderr",
     "output_type": "stream",
     "text": [
      " 17%|█▋        | 17/98 [00:12<01:05,  1.24it/s]"
     ]
    },
    {
     "name": "stdout",
     "output_type": "stream",
     "text": [
      "Analysing case XBJ (16/98) with 8 sequences, group: 1BP mid\n"
     ]
    },
    {
     "name": "stderr",
     "output_type": "stream",
     "text": [
      " 18%|█▊        | 18/98 [00:13<01:05,  1.22it/s]"
     ]
    },
    {
     "name": "stdout",
     "output_type": "stream",
     "text": [
      "Analysing case XBM (17/98) with 45 sequences, group: 1BP mid\n"
     ]
    },
    {
     "name": "stderr",
     "output_type": "stream",
     "text": [
      " 19%|█▉        | 19/98 [00:14<01:06,  1.19it/s]"
     ]
    },
    {
     "name": "stdout",
     "output_type": "stream",
     "text": [
      "Analysing case XBP (18/98) with 19 sequences, group: 1BP mid\n"
     ]
    },
    {
     "name": "stderr",
     "output_type": "stream",
     "text": [
      " 20%|██        | 20/98 [00:15<01:06,  1.18it/s]"
     ]
    },
    {
     "name": "stdout",
     "output_type": "stream",
     "text": [
      "Analysing case XBR (19/98) with 6 sequences, group: 1BP mid\n"
     ]
    },
    {
     "name": "stderr",
     "output_type": "stream",
     "text": [
      " 21%|██▏       | 21/98 [00:16<01:06,  1.17it/s]"
     ]
    },
    {
     "name": "stdout",
     "output_type": "stream",
     "text": [
      "Analysing case XBW (20/98) with 10 sequences, group: 1BP mid\n"
     ]
    },
    {
     "name": "stderr",
     "output_type": "stream",
     "text": [
      " 22%|██▏       | 22/98 [00:16<01:02,  1.22it/s]"
     ]
    },
    {
     "name": "stdout",
     "output_type": "stream",
     "text": [
      "Analysing case XH (21/98) with 1 sequences, group: 1BP mid\n"
     ]
    },
    {
     "name": "stderr",
     "output_type": "stream",
     "text": [
      " 23%|██▎       | 23/98 [00:17<01:02,  1.20it/s]"
     ]
    },
    {
     "name": "stdout",
     "output_type": "stream",
     "text": [
      "Analysing case XJ (22/98) with 2 sequences, group: 1BP mid\n"
     ]
    },
    {
     "name": "stderr",
     "output_type": "stream",
     "text": [
      " 24%|██▍       | 24/98 [00:18<01:00,  1.22it/s]"
     ]
    },
    {
     "name": "stdout",
     "output_type": "stream",
     "text": [
      "Analysing case XM (23/98) with 46 sequences, group: 1BP mid\n"
     ]
    },
    {
     "name": "stderr",
     "output_type": "stream",
     "text": [
      " 26%|██▌       | 25/98 [00:19<00:57,  1.26it/s]"
     ]
    },
    {
     "name": "stdout",
     "output_type": "stream",
     "text": [
      "Analysing case XY (24/98) with 54 sequences, group: 1BP mid\n"
     ]
    },
    {
     "name": "stderr",
     "output_type": "stream",
     "text": [
      " 27%|██▋       | 26/98 [00:20<01:01,  1.18it/s]"
     ]
    },
    {
     "name": "stdout",
     "output_type": "stream",
     "text": [
      "Analysing case XZ (25/98) with 62 sequences, group: 1BP mid\n"
     ]
    },
    {
     "name": "stderr",
     "output_type": "stream",
     "text": [
      " 28%|██▊       | 27/98 [00:20<00:57,  1.24it/s]"
     ]
    },
    {
     "name": "stdout",
     "output_type": "stream",
     "text": [
      "Analysing case XAA (26/98) with 46 sequences, group: 1BP 5'\n"
     ]
    },
    {
     "name": "stderr",
     "output_type": "stream",
     "text": [
      " 29%|██▊       | 28/98 [00:21<00:54,  1.28it/s]"
     ]
    },
    {
     "name": "stdout",
     "output_type": "stream",
     "text": [
      "Analysing case XAB (27/98) with 28 sequences, group: 1BP 5'\n"
     ]
    },
    {
     "name": "stderr",
     "output_type": "stream",
     "text": [
      " 30%|██▉       | 29/98 [00:22<00:53,  1.29it/s]"
     ]
    },
    {
     "name": "stdout",
     "output_type": "stream",
     "text": [
      "Analysing case XAF (28/98) with 17 sequences, group: 1BP 5'\n"
     ]
    },
    {
     "name": "stderr",
     "output_type": "stream",
     "text": [
      " 31%|███       | 30/98 [00:23<00:51,  1.32it/s]"
     ]
    },
    {
     "name": "stdout",
     "output_type": "stream",
     "text": [
      "Analysing case XAG (29/98) with 12 sequences, group: 1BP 5'\n"
     ]
    },
    {
     "name": "stderr",
     "output_type": "stream",
     "text": [
      " 32%|███▏      | 31/98 [00:23<00:49,  1.34it/s]"
     ]
    },
    {
     "name": "stdout",
     "output_type": "stream",
     "text": [
      "Analysing case XAM (30/98) with 55 sequences, group: 1BP 5'\n"
     ]
    },
    {
     "name": "stderr",
     "output_type": "stream",
     "text": [
      " 33%|███▎      | 32/98 [00:24<00:49,  1.34it/s]"
     ]
    },
    {
     "name": "stdout",
     "output_type": "stream",
     "text": [
      "Analysing case XAU (31/98) with 5 sequences, group: 1BP 5'\n"
     ]
    },
    {
     "name": "stderr",
     "output_type": "stream",
     "text": [
      " 34%|███▎      | 33/98 [00:25<00:47,  1.36it/s]"
     ]
    },
    {
     "name": "stdout",
     "output_type": "stream",
     "text": [
      "Analysing case XE (32/98) with 147 sequences, group: 1BP 5'\n"
     ]
    },
    {
     "name": "stderr",
     "output_type": "stream",
     "text": [
      " 35%|███▍      | 34/98 [00:25<00:47,  1.36it/s]"
     ]
    },
    {
     "name": "stdout",
     "output_type": "stream",
     "text": [
      "Analysing case XG (33/98) with 8 sequences, group: 1BP 5'\n"
     ]
    },
    {
     "name": "stderr",
     "output_type": "stream",
     "text": [
      " 36%|███▌      | 35/98 [00:26<00:46,  1.37it/s]"
     ]
    },
    {
     "name": "stdout",
     "output_type": "stream",
     "text": [
      "Analysing case XL (34/98) with 10 sequences, group: 1BP 5'\n"
     ]
    },
    {
     "name": "stderr",
     "output_type": "stream",
     "text": [
      " 37%|███▋      | 36/98 [00:27<00:43,  1.42it/s]"
     ]
    },
    {
     "name": "stdout",
     "output_type": "stream",
     "text": [
      "Analysing case XN (35/98) with 6 sequences, group: 1BP 5'\n"
     ]
    },
    {
     "name": "stderr",
     "output_type": "stream",
     "text": [
      " 38%|███▊      | 37/98 [00:28<00:43,  1.39it/s]"
     ]
    },
    {
     "name": "stdout",
     "output_type": "stream",
     "text": [
      "Analysing case XQ (36/98) with 6 sequences, group: 1BP 5'\n"
     ]
    },
    {
     "name": "stderr",
     "output_type": "stream",
     "text": [
      " 39%|███▉      | 38/98 [00:28<00:43,  1.39it/s]"
     ]
    },
    {
     "name": "stdout",
     "output_type": "stream",
     "text": [
      "Analysing case XS (37/98) with 18 sequences, group: 1BP 5'\n"
     ]
    },
    {
     "name": "stderr",
     "output_type": "stream",
     "text": [
      " 40%|███▉      | 39/98 [00:29<00:42,  1.39it/s]"
     ]
    },
    {
     "name": "stdout",
     "output_type": "stream",
     "text": [
      "Analysing case XU (38/98) with 1 sequences, group: 1BP 5'\n"
     ]
    },
    {
     "name": "stderr",
     "output_type": "stream",
     "text": [
      " 41%|████      | 40/98 [00:30<00:42,  1.37it/s]"
     ]
    },
    {
     "name": "stdout",
     "output_type": "stream",
     "text": [
      "Analysing case XW (39/98) with 33 sequences, group: 1BP 5'\n"
     ]
    },
    {
     "name": "stderr",
     "output_type": "stream",
     "text": [
      " 42%|████▏     | 41/98 [00:31<00:43,  1.31it/s]"
     ]
    },
    {
     "name": "stdout",
     "output_type": "stream",
     "text": [
      "Analysing case XAH (40/98) with 4 sequences, group: 1BP 3'\n"
     ]
    },
    {
     "name": "stderr",
     "output_type": "stream",
     "text": [
      " 43%|████▎     | 42/98 [00:31<00:44,  1.27it/s]"
     ]
    },
    {
     "name": "stdout",
     "output_type": "stream",
     "text": [
      "Analysing case XAC (41/98) with 31 sequences, group: 2BP\n"
     ]
    },
    {
     "name": "stderr",
     "output_type": "stream",
     "text": [
      " 44%|████▍     | 43/98 [00:32<00:45,  1.22it/s]"
     ]
    },
    {
     "name": "stdout",
     "output_type": "stream",
     "text": [
      "Analysing case XAK (42/98) with 17 sequences, group: 2BP\n"
     ]
    },
    {
     "name": "stderr",
     "output_type": "stream",
     "text": [
      " 45%|████▍     | 44/98 [00:33<00:42,  1.27it/s]"
     ]
    },
    {
     "name": "stdout",
     "output_type": "stream",
     "text": [
      "Analysing case XAZ (43/98) with 165 sequences, group: 2BP\n"
     ]
    },
    {
     "name": "stderr",
     "output_type": "stream",
     "text": [
      " 46%|████▌     | 45/98 [00:34<00:40,  1.32it/s]"
     ]
    },
    {
     "name": "stdout",
     "output_type": "stream",
     "text": [
      "Analysing case XBL (44/98) with 6 sequences, group: 2BP\n"
     ]
    },
    {
     "name": "stderr",
     "output_type": "stream",
     "text": [
      " 47%|████▋     | 46/98 [00:35<00:40,  1.27it/s]"
     ]
    },
    {
     "name": "stdout",
     "output_type": "stream",
     "text": [
      "Analysing case XBT (45/98) with 16 sequences, group: 2BP\n"
     ]
    },
    {
     "name": "stderr",
     "output_type": "stream",
     "text": [
      " 48%|████▊     | 47/98 [00:35<00:41,  1.22it/s]"
     ]
    },
    {
     "name": "stdout",
     "output_type": "stream",
     "text": [
      "Analysing case XBU (46/98) with 3 sequences, group: 2BP\n"
     ]
    },
    {
     "name": "stderr",
     "output_type": "stream",
     "text": [
      " 49%|████▉     | 48/98 [00:36<00:41,  1.21it/s]"
     ]
    },
    {
     "name": "stdout",
     "output_type": "stream",
     "text": [
      "Analysing case XD (47/98) with 1 sequences, group: 2BP\n"
     ]
    },
    {
     "name": "stderr",
     "output_type": "stream",
     "text": [
      " 50%|█████     | 49/98 [00:37<00:40,  1.21it/s]"
     ]
    },
    {
     "name": "stdout",
     "output_type": "stream",
     "text": [
      "Analysing case XAJ (48/98) with 10 sequences, group: undefined\n"
     ]
    },
    {
     "name": "stderr",
     "output_type": "stream",
     "text": [
      " 51%|█████     | 50/98 [00:38<00:37,  1.28it/s]"
     ]
    },
    {
     "name": "stdout",
     "output_type": "stream",
     "text": [
      "Analysing case XBK (49/98) with 47 sequences, group: undefined\n"
     ]
    },
    {
     "name": "stderr",
     "output_type": "stream",
     "text": [
      " 52%|█████▏    | 51/98 [00:39<00:36,  1.29it/s]"
     ]
    },
    {
     "name": "stdout",
     "output_type": "stream",
     "text": [
      "Analysing case XBN (50/98) with 15 sequences, group: undefined\n"
     ]
    },
    {
     "name": "stderr",
     "output_type": "stream",
     "text": [
      " 53%|█████▎    | 52/98 [00:39<00:34,  1.32it/s]"
     ]
    },
    {
     "name": "stdout",
     "output_type": "stream",
     "text": [
      "Analysing case XBV (51/98) with 3 sequences, group: undefined\n"
     ]
    },
    {
     "name": "stderr",
     "output_type": "stream",
     "text": [
      " 54%|█████▍    | 53/98 [00:40<00:34,  1.30it/s]"
     ]
    },
    {
     "name": "stdout",
     "output_type": "stream",
     "text": [
      "Analysing case XBZ (52/98) with 9 sequences, group: undefined\n"
     ]
    },
    {
     "name": "stderr",
     "output_type": "stream",
     "text": [
      " 55%|█████▌    | 54/98 [00:41<00:33,  1.31it/s]"
     ]
    },
    {
     "name": "stdout",
     "output_type": "stream",
     "text": [
      "Analysing case XCA (53/98) with 3 sequences, group: undefined\n"
     ]
    },
    {
     "name": "stderr",
     "output_type": "stream",
     "text": [
      " 56%|█████▌    | 55/98 [00:42<00:32,  1.31it/s]"
     ]
    },
    {
     "name": "stdout",
     "output_type": "stream",
     "text": [
      "Analysing case XCC (54/98) with 3 sequences, group: undefined\n"
     ]
    },
    {
     "name": "stderr",
     "output_type": "stream",
     "text": [
      " 57%|█████▋    | 56/98 [00:42<00:31,  1.33it/s]"
     ]
    },
    {
     "name": "stdout",
     "output_type": "stream",
     "text": [
      "Analysing case XCE (55/98) with 2 sequences, group: undefined\n"
     ]
    },
    {
     "name": "stderr",
     "output_type": "stream",
     "text": [
      " 58%|█████▊    | 57/98 [00:43<00:32,  1.27it/s]"
     ]
    },
    {
     "name": "stdout",
     "output_type": "stream",
     "text": [
      "Analysing case XCF (56/98) with 37 sequences, group: undefined\n"
     ]
    },
    {
     "name": "stderr",
     "output_type": "stream",
     "text": [
      " 59%|█████▉    | 58/98 [00:44<00:31,  1.28it/s]"
     ]
    },
    {
     "name": "stdout",
     "output_type": "stream",
     "text": [
      "Analysing case XCG (57/98) with 11 sequences, group: undefined\n"
     ]
    },
    {
     "name": "stderr",
     "output_type": "stream",
     "text": [
      " 60%|██████    | 59/98 [00:45<00:28,  1.35it/s]"
     ]
    },
    {
     "name": "stdout",
     "output_type": "stream",
     "text": [
      "Analysing case XCH (58/98) with 113 sequences, group: undefined\n"
     ]
    },
    {
     "name": "stderr",
     "output_type": "stream",
     "text": [
      " 61%|██████    | 60/98 [00:46<00:29,  1.27it/s]"
     ]
    },
    {
     "name": "stdout",
     "output_type": "stream",
     "text": [
      "Analysing case XCJ (59/98) with 1 sequences, group: undefined\n"
     ]
    },
    {
     "name": "stderr",
     "output_type": "stream",
     "text": [
      " 62%|██████▏   | 61/98 [00:46<00:28,  1.28it/s]"
     ]
    },
    {
     "name": "stdout",
     "output_type": "stream",
     "text": [
      "Analysing case XCK (60/98) with 8 sequences, group: undefined\n"
     ]
    },
    {
     "name": "stderr",
     "output_type": "stream",
     "text": [
      " 63%|██████▎   | 62/98 [00:47<00:28,  1.24it/s]"
     ]
    },
    {
     "name": "stdout",
     "output_type": "stream",
     "text": [
      "Analysing case XCL (61/98) with 11 sequences, group: undefined\n"
     ]
    },
    {
     "name": "stderr",
     "output_type": "stream",
     "text": [
      " 64%|██████▍   | 63/98 [00:48<00:28,  1.24it/s]"
     ]
    },
    {
     "name": "stdout",
     "output_type": "stream",
     "text": [
      "Analysing case XCM (62/98) with 4 sequences, group: undefined\n"
     ]
    },
    {
     "name": "stderr",
     "output_type": "stream",
     "text": [
      " 65%|██████▌   | 64/98 [00:49<00:27,  1.22it/s]"
     ]
    },
    {
     "name": "stdout",
     "output_type": "stream",
     "text": [
      "Analysing case XCP (63/98) with 8 sequences, group: undefined\n"
     ]
    },
    {
     "name": "stderr",
     "output_type": "stream",
     "text": [
      " 66%|██████▋   | 65/98 [00:50<00:26,  1.24it/s]"
     ]
    },
    {
     "name": "stdout",
     "output_type": "stream",
     "text": [
      "Analysing case XCQ (64/98) with 7 sequences, group: undefined\n"
     ]
    },
    {
     "name": "stderr",
     "output_type": "stream",
     "text": [
      " 67%|██████▋   | 66/98 [00:50<00:25,  1.27it/s]"
     ]
    },
    {
     "name": "stdout",
     "output_type": "stream",
     "text": [
      "Analysing case XCR (65/98) with 93 sequences, group: undefined\n"
     ]
    },
    {
     "name": "stderr",
     "output_type": "stream",
     "text": [
      " 68%|██████▊   | 67/98 [00:51<00:23,  1.33it/s]"
     ]
    },
    {
     "name": "stdout",
     "output_type": "stream",
     "text": [
      "Analysing case XCT (66/98) with 3 sequences, group: undefined\n"
     ]
    },
    {
     "name": "stderr",
     "output_type": "stream",
     "text": [
      " 69%|██████▉   | 68/98 [00:52<00:23,  1.30it/s]"
     ]
    },
    {
     "name": "stdout",
     "output_type": "stream",
     "text": [
      "Analysing case XCU (67/98) with 2 sequences, group: undefined\n"
     ]
    },
    {
     "name": "stderr",
     "output_type": "stream",
     "text": [
      " 70%|███████   | 69/98 [00:53<00:22,  1.31it/s]"
     ]
    },
    {
     "name": "stdout",
     "output_type": "stream",
     "text": [
      "Analysing case XCV (68/98) with 37 sequences, group: undefined\n"
     ]
    },
    {
     "name": "stderr",
     "output_type": "stream",
     "text": [
      " 71%|███████▏  | 70/98 [00:53<00:22,  1.26it/s]"
     ]
    },
    {
     "name": "stdout",
     "output_type": "stream",
     "text": [
      "Analysing case XCW (69/98) with 32 sequences, group: undefined\n"
     ]
    },
    {
     "name": "stderr",
     "output_type": "stream",
     "text": [
      " 72%|███████▏  | 71/98 [00:54<00:22,  1.22it/s]"
     ]
    },
    {
     "name": "stdout",
     "output_type": "stream",
     "text": [
      "Analysing case XCY (70/98) with 4 sequences, group: undefined\n"
     ]
    },
    {
     "name": "stderr",
     "output_type": "stream",
     "text": [
      " 73%|███████▎  | 72/98 [00:55<00:21,  1.20it/s]"
     ]
    },
    {
     "name": "stdout",
     "output_type": "stream",
     "text": [
      "Analysing case XCZ (71/98) with 2 sequences, group: undefined\n"
     ]
    },
    {
     "name": "stderr",
     "output_type": "stream",
     "text": [
      " 74%|███████▍  | 73/98 [00:56<00:19,  1.26it/s]"
     ]
    },
    {
     "name": "stdout",
     "output_type": "stream",
     "text": [
      "Analysing case XDA (72/98) with 138 sequences, group: undefined\n"
     ]
    },
    {
     "name": "stderr",
     "output_type": "stream",
     "text": [
      " 76%|███████▌  | 74/98 [00:57<00:18,  1.30it/s]"
     ]
    },
    {
     "name": "stdout",
     "output_type": "stream",
     "text": [
      "Analysing case XDB (73/98) with 8 sequences, group: undefined\n"
     ]
    },
    {
     "name": "stderr",
     "output_type": "stream",
     "text": [
      " 77%|███████▋  | 75/98 [00:57<00:17,  1.32it/s]"
     ]
    },
    {
     "name": "stdout",
     "output_type": "stream",
     "text": [
      "Analysing case XDC (74/98) with 2 sequences, group: undefined\n"
     ]
    },
    {
     "name": "stderr",
     "output_type": "stream",
     "text": [
      " 78%|███████▊  | 76/98 [00:58<00:16,  1.31it/s]"
     ]
    },
    {
     "name": "stdout",
     "output_type": "stream",
     "text": [
      "Analysing case XDD (75/98) with 91 sequences, group: undefined\n"
     ]
    },
    {
     "name": "stderr",
     "output_type": "stream",
     "text": [
      " 79%|███████▊  | 77/98 [00:59<00:15,  1.32it/s]"
     ]
    },
    {
     "name": "stdout",
     "output_type": "stream",
     "text": [
      "Analysing case XDE (76/98) with 7 sequences, group: undefined\n"
     ]
    },
    {
     "name": "stderr",
     "output_type": "stream",
     "text": [
      " 80%|███████▉  | 78/98 [01:00<00:15,  1.31it/s]"
     ]
    },
    {
     "name": "stdout",
     "output_type": "stream",
     "text": [
      "Analysing case XDG (77/98) with 9 sequences, group: undefined\n"
     ]
    },
    {
     "name": "stderr",
     "output_type": "stream",
     "text": [
      " 81%|████████  | 79/98 [01:00<00:14,  1.33it/s]"
     ]
    },
    {
     "name": "stdout",
     "output_type": "stream",
     "text": [
      "Analysing case XDH (78/98) with 1 sequences, group: undefined\n"
     ]
    },
    {
     "name": "stderr",
     "output_type": "stream",
     "text": [
      " 82%|████████▏ | 80/98 [01:01<00:13,  1.38it/s]"
     ]
    },
    {
     "name": "stdout",
     "output_type": "stream",
     "text": [
      "Analysing case XDK (79/98) with 30 sequences, group: undefined\n"
     ]
    },
    {
     "name": "stderr",
     "output_type": "stream",
     "text": [
      " 83%|████████▎ | 81/98 [01:02<00:13,  1.30it/s]"
     ]
    },
    {
     "name": "stdout",
     "output_type": "stream",
     "text": [
      "Analysing case XDL (80/98) with 3 sequences, group: undefined\n"
     ]
    },
    {
     "name": "stderr",
     "output_type": "stream",
     "text": [
      " 84%|████████▎ | 82/98 [01:03<00:12,  1.31it/s]"
     ]
    },
    {
     "name": "stdout",
     "output_type": "stream",
     "text": [
      "Analysing case XDN (81/98) with 4 sequences, group: undefined\n"
     ]
    },
    {
     "name": "stderr",
     "output_type": "stream",
     "text": [
      " 85%|████████▍ | 83/98 [01:03<00:10,  1.37it/s]"
     ]
    },
    {
     "name": "stdout",
     "output_type": "stream",
     "text": [
      "Analysing case XDP (82/98) with 128 sequences, group: undefined\n"
     ]
    },
    {
     "name": "stderr",
     "output_type": "stream",
     "text": [
      " 86%|████████▌ | 84/98 [01:04<00:10,  1.35it/s]"
     ]
    },
    {
     "name": "stdout",
     "output_type": "stream",
     "text": [
      "Analysing case XDQ (83/98) with 7 sequences, group: undefined\n"
     ]
    },
    {
     "name": "stderr",
     "output_type": "stream",
     "text": [
      " 87%|████████▋ | 85/98 [01:05<00:09,  1.36it/s]"
     ]
    },
    {
     "name": "stdout",
     "output_type": "stream",
     "text": [
      "Analysing case XDR (84/98) with 9 sequences, group: undefined\n"
     ]
    },
    {
     "name": "stderr",
     "output_type": "stream",
     "text": [
      " 88%|████████▊ | 86/98 [01:06<00:08,  1.35it/s]"
     ]
    },
    {
     "name": "stdout",
     "output_type": "stream",
     "text": [
      "Analysing case XDV (85/98) with 5 sequences, group: undefined\n"
     ]
    },
    {
     "name": "stderr",
     "output_type": "stream",
     "text": [
      " 89%|████████▉ | 87/98 [01:06<00:07,  1.40it/s]"
     ]
    },
    {
     "name": "stdout",
     "output_type": "stream",
     "text": [
      "Analysing case XDY (86/98) with 104 sequences, group: undefined\n"
     ]
    },
    {
     "name": "stderr",
     "output_type": "stream",
     "text": [
      " 90%|████████▉ | 88/98 [01:07<00:07,  1.32it/s]"
     ]
    },
    {
     "name": "stdout",
     "output_type": "stream",
     "text": [
      "Analysing case XEB (87/98) with 7 sequences, group: undefined\n"
     ]
    },
    {
     "name": "stderr",
     "output_type": "stream",
     "text": [
      " 91%|█████████ | 89/98 [01:08<00:06,  1.35it/s]"
     ]
    },
    {
     "name": "stdout",
     "output_type": "stream",
     "text": [
      "Analysing case XEC (88/98) with 2168 sequences, group: undefined\n"
     ]
    },
    {
     "name": "stderr",
     "output_type": "stream",
     "text": [
      " 92%|█████████▏| 90/98 [01:08<00:05,  1.39it/s]"
     ]
    },
    {
     "name": "stdout",
     "output_type": "stream",
     "text": [
      "Analysing case XED (89/98) with 8 sequences, group: undefined\n"
     ]
    },
    {
     "name": "stderr",
     "output_type": "stream",
     "text": [
      " 93%|█████████▎| 91/98 [01:10<00:07,  1.02s/it]"
     ]
    },
    {
     "name": "stdout",
     "output_type": "stream",
     "text": [
      "Analysing case XEE (90/98) with 12 sequences, group: undefined\n"
     ]
    },
    {
     "name": "stderr",
     "output_type": "stream",
     "text": [
      " 94%|█████████▍| 92/98 [01:11<00:05,  1.09it/s]"
     ]
    },
    {
     "name": "stdout",
     "output_type": "stream",
     "text": [
      "Analysing case XEF (91/98) with 34 sequences, group: undefined\n"
     ]
    },
    {
     "name": "stderr",
     "output_type": "stream",
     "text": [
      " 95%|█████████▍| 93/98 [01:12<00:04,  1.10it/s]"
     ]
    },
    {
     "name": "stdout",
     "output_type": "stream",
     "text": [
      "Analysing case XEG (92/98) with 2 sequences, group: undefined\n"
     ]
    },
    {
     "name": "stderr",
     "output_type": "stream",
     "text": [
      " 96%|█████████▌| 94/98 [01:12<00:03,  1.18it/s]"
     ]
    },
    {
     "name": "stdout",
     "output_type": "stream",
     "text": [
      "Analysing case XEH (93/98) with 24 sequences, group: undefined\n"
     ]
    },
    {
     "name": "stderr",
     "output_type": "stream",
     "text": [
      " 97%|█████████▋| 95/98 [01:13<00:02,  1.26it/s]"
     ]
    },
    {
     "name": "stdout",
     "output_type": "stream",
     "text": [
      "Analysing case XEK (94/98) with 118 sequences, group: undefined\n"
     ]
    },
    {
     "name": "stderr",
     "output_type": "stream",
     "text": [
      " 98%|█████████▊| 96/98 [01:14<00:01,  1.28it/s]"
     ]
    },
    {
     "name": "stdout",
     "output_type": "stream",
     "text": [
      "Analysing case XEL (95/98) with 14 sequences, group: undefined\n"
     ]
    },
    {
     "name": "stderr",
     "output_type": "stream",
     "text": [
      " 99%|█████████▉| 97/98 [01:15<00:00,  1.32it/s]"
     ]
    },
    {
     "name": "stdout",
     "output_type": "stream",
     "text": [
      "Analysing case XEM (96/98) with 3 sequences, group: undefined\n"
     ]
    },
    {
     "name": "stderr",
     "output_type": "stream",
     "text": [
      "100%|██████████| 98/98 [01:15<00:00,  1.35it/s]"
     ]
    },
    {
     "name": "stdout",
     "output_type": "stream",
     "text": [
      "Analysing case XEN (97/98) with 11 sequences, group: undefined\n"
     ]
    },
    {
     "name": "stderr",
     "output_type": "stream",
     "text": [
      "100%|██████████| 98/98 [01:16<00:00,  1.28it/s]"
     ]
    },
    {
     "name": "stdout",
     "output_type": "stream",
     "text": [
      "Analysing case XEP (98/98) with 3 sequences, group: undefined\n"
     ]
    },
    {
     "name": "stderr",
     "output_type": "stream",
     "text": [
      "\n"
     ]
    }
   ],
   "source": [
    "from tqdm import tqdm\n",
    "from recombinhunt.validation.case_analysis import CaseAnalysis\n",
    "\n",
    "# CHOOSE ANALYSIS GROUP\n",
    "#groups_of_cases, group_names, number_of_cases = (cases_2BP,), (\"2BP\",), len(cases_2BP)\n",
    "#groups_of_cases, group_names, number_of_cases = (cases_1BP_mid, cases_1BP_5p, cases_1BP_3p), (\"1BP_mid\", \"1BP_5p\", \"1BP_3p\"), len(cases_1BP)\n",
    "# groups_of_cases, group_names, number_of_cases = (cases_1BP_mid, cases_1BP_5p, cases_1BP_3p, cases_2BP), (\"1BP_mid\", \"1BP_5p\", \"1BP_3p\", \"2BP\"),  len(cases_1BP) + len(cases_2BP)\n",
    "# groups_of_cases, group_names, number_of_cases = (cases_oth,), (\"?\",),  len(cases_oth)\n",
    "groups_of_cases, group_names, number_of_cases = (cases_1BP_mid, cases_1BP_5p, cases_1BP_3p, cases_2BP, cases_oth), (\"1BP mid\", \"1BP 5'\", \"1BP 3'\", \"2BP\", \"undefined\"),  len(cases_1BP) + len(cases_2BP) + len(cases_oth)\n",
    "\n",
    "# ANALYSIS  \n",
    "issues = {\n",
    "    \"issue_0BP\": [],    # cases labeled as recombinant by PANGO and non-recombinant by RecombinHunt\n",
    "    \"issue_2BP\": [],    # cases labeled as 1BP recombinant by PANGO and 2BP by RecombinHunt\n",
    "    \"issue_1BP\": [],    # \n",
    "    \"issue_KO\": [],\n",
    "    \"non_issue_OK\": []\n",
    "}\n",
    "\n",
    "case_n = 0\n",
    "met = False\n",
    "with open(old_lineages_txt_path, 'w') as old_lineages_txt, \\\n",
    "     open(new_lineages_txt_path, 'w') as new_lineages_txt, \\\n",
    "     open(old_lineages_html_path, 'w') as old_lineages_html, \\\n",
    "     open(new_lineages_html_path, 'w') as new_lineages_html, \\\n",
    "     open(old_lineages_comparison_path, 'w') as old_lineages_comparison, \\\n",
    "     open(new_lineages_comparison_path, 'w') as new_lineages_comparison:\n",
    "    with tqdm(total=number_of_cases) as progress:\n",
    "        for group_of_cases, group_name in zip(groups_of_cases, group_names):\n",
    "            for case in group_of_cases:\n",
    "                try:\n",
    "                    def log(msg, file):\n",
    "                        file.write(str(msg) + '\\n')\n",
    "\n",
    "                    case_n += 1\n",
    "                    progress.update()\n",
    "\n",
    "                    # if not met and case != \"XAV\":\n",
    "                    #     continue\n",
    "                    # else:\n",
    "                    #     met = True\n",
    "                    #     pass\n",
    "                    # if not case in (\"XP\"):\n",
    "                    #     continue\n",
    "\n",
    "                    # GROUND TRUTH DATA\n",
    "                    N_seq = number_of_sequences_by_rec_case[case]\n",
    "                    #parent_lineage_list = cl.contributing_to(case)\n",
    "                    #breakpoints = BreakpointsLocation.all_breakpoints(case)\n",
    "                    #n_breakpoints = BreakpointsLocation.breakpoints_num(case)\n",
    "                    nuc_changes = case2target[case][-1]\n",
    "\n",
    "                    # EXPERIMENT\n",
    "                    exp = Experiment(custom_environments.get(case, env))\n",
    "                    exp.set_target(nuc_changes)\n",
    "                    result = exp.run()\n",
    "\n",
    "                    if result and hasattr(result, 'genome_view') and result.genome_view and \\\n",
    "                        hasattr(result.genome_view, 'describe') and callable(result.genome_view.describe):\n",
    "                        description = result.genome_view.describe()\n",
    "                        recombinhunt_candidates = description.get('designated candidates', [])\n",
    "\n",
    "                    #print(f\"Analysing case {case} ({case_n}/{number_of_cases}) with {N_seq} sequences, {n_breakpoints} breakpoints, group: {group_name}\")\n",
    "                    print(f\"Analysing case {case} ({case_n}/{number_of_cases}) with {N_seq} sequences, group: {group_name}\")\n",
    "                    \n",
    "                    if case in OLD_LINEAGES:\n",
    "                        log('------------------------', old_lineages_txt)\n",
    "                        log(f\"{case} is an old lineage, printing experiment details...\", old_lineages_txt)\n",
    "                        log(exp, old_lineages_txt)\n",
    "                        log('------------------------', old_lineages_txt)\n",
    "\n",
    "                        log('------------------------', old_lineages_comparison)\n",
    "                        log(f'Lineage: {case}', old_lineages_comparison)\n",
    "                        log(f\"GT Lineages: {' + '.join(alias_key.get(case, 'N/A'))}\", old_lineages_comparison)\n",
    "                        log(f'NatComm Paper:', old_lineages_comparison)\n",
    "                        log(f'This Experiment: {recombinhunt_candidates}', old_lineages_comparison)\n",
    "                        log('------------------------', old_lineages_comparison)\n",
    "                        \n",
    "                        parent_lineage_list = cl.contributing_to(case)\n",
    "                        breakpoints = BreakpointsLocation.all_breakpoints(case)\n",
    "                        n_breakpoints = BreakpointsLocation.breakpoints_num(case)\n",
    "\n",
    "                        ca = CaseAnalysis(exp, case, N_seq, case_n, group_name,\n",
    "                                            lh, cl,\n",
    "                                            parent_lineage_list, breakpoints)\n",
    "                        ca.print_case_details(old_lineages_html)\n",
    "\n",
    "                    else:\n",
    "                        log('------------------------', new_lineages_txt)\n",
    "                        log(f\"{case} is a new lineage, printing experiment details...\", new_lineages_txt)\n",
    "                        log(exp, new_lineages_txt)\n",
    "                        log('------------------------', new_lineages_txt)\n",
    "\n",
    "                        log('------------------------', new_lineages_comparison)\n",
    "                        log(f'Lineage: {case}', new_lineages_comparison)\n",
    "                        log(f\"GT Lineages: {' + '.join(alias_key.get(case, 'N/A'))}\", new_lineages_comparison)\n",
    "                        log(f'This Experiment: {recombinhunt_candidates}', new_lineages_comparison)\n",
    "                        log('------------------------', new_lineages_comparison)\n",
    "\n",
    "                        lh = exp.lh\n",
    "                        ca = CaseAnalysis(exp, case, N_seq, case_n, group_name,\n",
    "                                          lh)\n",
    "                        ca.print_case_details(new_lineages_html)\n",
    "                                          \n",
    "\n",
    "                    # # print()\n",
    "\n",
    "                    # #COMPARE EXPERIMENT RESULT WITH GROUND TRUTH DATA\n",
    "                    # N_seq = f\"(75%) {N_seq}\"\n",
    "                    # # ca = CaseAnalysis(exp, case, N_seq, case_n, group_name,\n",
    "                    # #                  parent_lineage_list, breakpoints,\n",
    "                    # #                  lh, cl)\n",
    "\n",
    "                    # ca = CaseAnalysis(exp, case, N_seq, case_n, group_name,\n",
    "                    #                  lh, cl)\n",
    "\n",
    "                    # ca.print_case_details(detailed_cases_outfile)\n",
    "\n",
    "                    # issues[ca.get_issue()].append(case)\n",
    "\n",
    "                    # tabella_riassuntiva.append(ca.analysis_table_row())\n",
    "\n",
    "                except Exception as e:\n",
    "                        print(\"ERROR\", case, end=\" \")\n",
    "                        \n",
    "                        ### ---debug the error output\n",
    "                        #print('breakpoints: ', breakpoints)\n",
    "                        \n",
    "                        \n",
    "                        try:\n",
    "                            #print(\"Last analysed case\", tabella_riassuntiva[-1][1], \"case n° (1-based)\", tabella_riassuntiva[-1][0])\n",
    "                            pass\n",
    "                        except IndexError:\n",
    "                            pass\n",
    "                        raise e\n"
   ]
  },
  {
   "cell_type": "code",
   "execution_count": null,
   "metadata": {},
   "outputs": [],
   "source": []
  }
 ],
 "metadata": {
  "kernelspec": {
   "display_name": "hunter",
   "language": "python",
   "name": "python3"
  },
  "language_info": {
   "codemirror_mode": {
    "name": "ipython",
    "version": 3
   },
   "file_extension": ".py",
   "mimetype": "text/x-python",
   "name": "python",
   "nbconvert_exporter": "python",
   "pygments_lexer": "ipython3",
   "version": "3.10.12"
  }
 },
 "nbformat": 4,
 "nbformat_minor": 4
}
