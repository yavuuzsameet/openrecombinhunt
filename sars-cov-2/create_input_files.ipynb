{
 "cells": [
  {
   "cell_type": "code",
   "execution_count": 1,
   "metadata": {},
   "outputs": [
    {
     "name": "stdout",
     "output_type": "stream",
     "text": [
      "started\n"
     ]
    }
   ],
   "source": [
    "print('started')"
   ]
  },
  {
   "cell_type": "code",
   "execution_count": 2,
   "metadata": {},
   "outputs": [],
   "source": [
    "import pandas as pd\n",
    "import numpy as np\n",
    "import os"
   ]
  },
  {
   "cell_type": "code",
   "execution_count": 3,
   "metadata": {},
   "outputs": [
    {
     "data": {
      "text/plain": [
       "'1.26.0'"
      ]
     },
     "execution_count": 3,
     "metadata": {},
     "output_type": "execute_result"
    }
   ],
   "source": [
    "np.__version__"
   ]
  },
  {
   "cell_type": "code",
   "execution_count": 4,
   "metadata": {},
   "outputs": [
    {
     "data": {
      "text/plain": [
       "'2.1.1'"
      ]
     },
     "execution_count": 4,
     "metadata": {},
     "output_type": "execute_result"
    }
   ],
   "source": [
    "pd.__version__"
   ]
  },
  {
   "cell_type": "code",
   "execution_count": 5,
   "metadata": {},
   "outputs": [
    {
     "data": {
      "text/plain": [
       "'/Users/yavuuzsameet/Desktop/polimi/tesi/recombinhunt-cov-7.0.0/fromzero'"
      ]
     },
     "execution_count": 5,
     "metadata": {},
     "output_type": "execute_result"
    }
   ],
   "source": [
    "os.getcwd()"
   ]
  },
  {
   "cell_type": "code",
   "execution_count": 6,
   "metadata": {},
   "outputs": [
    {
     "name": "stderr",
     "output_type": "stream",
     "text": [
      "/var/folders/2n/gzd0gjnd7zg2s5l8kbwzsr7h0000gn/T/ipykernel_3270/2889397875.py:2: DtypeWarning: Columns (4,10,29,52,54) have mixed types. Specify dtype option on import or set low_memory=False.\n",
      "  df = pd.read_csv('metadata_cleaned.tsv', sep='\\t')\n"
     ]
    },
    {
     "data": {
      "text/html": [
       "<div>\n",
       "<style scoped>\n",
       "    .dataframe tbody tr th:only-of-type {\n",
       "        vertical-align: middle;\n",
       "    }\n",
       "\n",
       "    .dataframe tbody tr th {\n",
       "        vertical-align: top;\n",
       "    }\n",
       "\n",
       "    .dataframe thead th {\n",
       "        text-align: right;\n",
       "    }\n",
       "</style>\n",
       "<table border=\"1\" class=\"dataframe\">\n",
       "  <thead>\n",
       "    <tr style=\"text-align: right;\">\n",
       "      <th></th>\n",
       "      <th>strain</th>\n",
       "      <th>virus</th>\n",
       "      <th>gisaid_epi_isl</th>\n",
       "      <th>genbank_accession</th>\n",
       "      <th>genbank_accession_rev</th>\n",
       "      <th>sra_accession</th>\n",
       "      <th>date</th>\n",
       "      <th>region</th>\n",
       "      <th>country</th>\n",
       "      <th>division</th>\n",
       "      <th>...</th>\n",
       "      <th>QC_rare_mutations</th>\n",
       "      <th>QC_snp_clusters</th>\n",
       "      <th>QC_frame_shifts</th>\n",
       "      <th>QC_stop_codons</th>\n",
       "      <th>QC_overall_score</th>\n",
       "      <th>QC_overall_status</th>\n",
       "      <th>frame_shifts</th>\n",
       "      <th>aaSubstitutions</th>\n",
       "      <th>clock_deviation</th>\n",
       "      <th>mutations</th>\n",
       "    </tr>\n",
       "  </thead>\n",
       "  <tbody>\n",
       "    <tr>\n",
       "      <th>0</th>\n",
       "      <td>ARG/Cordoba-1006-155/2020</td>\n",
       "      <td>ncov</td>\n",
       "      <td>?</td>\n",
       "      <td>MW553298</td>\n",
       "      <td>MW553298.1</td>\n",
       "      <td>NaN</td>\n",
       "      <td>2020-06-04</td>\n",
       "      <td>South America</td>\n",
       "      <td>Argentina</td>\n",
       "      <td>Argentina</td>\n",
       "      <td>...</td>\n",
       "      <td>good</td>\n",
       "      <td>good</td>\n",
       "      <td>good</td>\n",
       "      <td>good</td>\n",
       "      <td>0.000000</td>\n",
       "      <td>good</td>\n",
       "      <td>NaN</td>\n",
       "      <td>ORF1a:T999I,ORF1a:S3149F,ORF1b:P314L,ORF1b:S11...</td>\n",
       "      <td>4.0</td>\n",
       "      <td>241_C|T,3037_C|T,3261_C|T,9711_C|T,14408_C|T,1...</td>\n",
       "    </tr>\n",
       "    <tr>\n",
       "      <th>1</th>\n",
       "      <td>ARG/Cordoba-1083-6/2020</td>\n",
       "      <td>ncov</td>\n",
       "      <td>?</td>\n",
       "      <td>MW553296</td>\n",
       "      <td>MW553296.1</td>\n",
       "      <td>NaN</td>\n",
       "      <td>2020-06-04</td>\n",
       "      <td>South America</td>\n",
       "      <td>Argentina</td>\n",
       "      <td>Argentina</td>\n",
       "      <td>...</td>\n",
       "      <td>good</td>\n",
       "      <td>good</td>\n",
       "      <td>good</td>\n",
       "      <td>good</td>\n",
       "      <td>0.173611</td>\n",
       "      <td>good</td>\n",
       "      <td>NaN</td>\n",
       "      <td>ORF1a:T999I,ORF1a:S3149F,ORF1b:P314L,ORF1b:S11...</td>\n",
       "      <td>5.0</td>\n",
       "      <td>241_C|T,3037_C|T,3261_C|T,9711_C|T,14408_C|T,1...</td>\n",
       "    </tr>\n",
       "    <tr>\n",
       "      <th>2</th>\n",
       "      <td>ARG/Cordoba-11301-61/2020</td>\n",
       "      <td>ncov</td>\n",
       "      <td>?</td>\n",
       "      <td>MW553314</td>\n",
       "      <td>MW553314.1</td>\n",
       "      <td>NaN</td>\n",
       "      <td>2020-06-04</td>\n",
       "      <td>South America</td>\n",
       "      <td>Argentina</td>\n",
       "      <td>Argentina</td>\n",
       "      <td>...</td>\n",
       "      <td>good</td>\n",
       "      <td>good</td>\n",
       "      <td>good</td>\n",
       "      <td>good</td>\n",
       "      <td>0.000000</td>\n",
       "      <td>good</td>\n",
       "      <td>NaN</td>\n",
       "      <td>ORF1a:T999I,ORF1a:S3149F,ORF1b:P314L,ORF1b:S11...</td>\n",
       "      <td>4.0</td>\n",
       "      <td>241_C|T,3037_C|T,3261_C|T,9711_C|T,14408_C|T,1...</td>\n",
       "    </tr>\n",
       "    <tr>\n",
       "      <th>3</th>\n",
       "      <td>ARG/Cordoba-11419-61/2020</td>\n",
       "      <td>ncov</td>\n",
       "      <td>?</td>\n",
       "      <td>MW553297</td>\n",
       "      <td>MW553297.1</td>\n",
       "      <td>NaN</td>\n",
       "      <td>2020-06-04</td>\n",
       "      <td>South America</td>\n",
       "      <td>Argentina</td>\n",
       "      <td>Argentina</td>\n",
       "      <td>...</td>\n",
       "      <td>good</td>\n",
       "      <td>good</td>\n",
       "      <td>good</td>\n",
       "      <td>good</td>\n",
       "      <td>0.000000</td>\n",
       "      <td>good</td>\n",
       "      <td>NaN</td>\n",
       "      <td>ORF1a:T999I,ORF1a:S3149F,ORF1b:P314L,ORF1b:S11...</td>\n",
       "      <td>4.0</td>\n",
       "      <td>241_C|T,3037_C|T,3261_C|T,9711_C|T,14408_C|T,1...</td>\n",
       "    </tr>\n",
       "    <tr>\n",
       "      <th>4</th>\n",
       "      <td>ARG/Cordoba-11499-61/2020</td>\n",
       "      <td>ncov</td>\n",
       "      <td>?</td>\n",
       "      <td>MW553316</td>\n",
       "      <td>MW553316.1</td>\n",
       "      <td>NaN</td>\n",
       "      <td>2020-06-04</td>\n",
       "      <td>South America</td>\n",
       "      <td>Argentina</td>\n",
       "      <td>Argentina</td>\n",
       "      <td>...</td>\n",
       "      <td>good</td>\n",
       "      <td>good</td>\n",
       "      <td>good</td>\n",
       "      <td>good</td>\n",
       "      <td>0.173611</td>\n",
       "      <td>good</td>\n",
       "      <td>NaN</td>\n",
       "      <td>ORF1a:T999I,ORF1a:S3149F,ORF1b:P314L,ORF1b:S11...</td>\n",
       "      <td>4.0</td>\n",
       "      <td>241_C|T,3037_C|T,3261_C|T,9711_C|T,14408_C|T,1...</td>\n",
       "    </tr>\n",
       "  </tbody>\n",
       "</table>\n",
       "<p>5 rows × 56 columns</p>\n",
       "</div>"
      ],
      "text/plain": [
       "                      strain virus gisaid_epi_isl genbank_accession  \\\n",
       "0  ARG/Cordoba-1006-155/2020  ncov              ?          MW553298   \n",
       "1    ARG/Cordoba-1083-6/2020  ncov              ?          MW553296   \n",
       "2  ARG/Cordoba-11301-61/2020  ncov              ?          MW553314   \n",
       "3  ARG/Cordoba-11419-61/2020  ncov              ?          MW553297   \n",
       "4  ARG/Cordoba-11499-61/2020  ncov              ?          MW553316   \n",
       "\n",
       "  genbank_accession_rev sra_accession        date         region    country  \\\n",
       "0            MW553298.1           NaN  2020-06-04  South America  Argentina   \n",
       "1            MW553296.1           NaN  2020-06-04  South America  Argentina   \n",
       "2            MW553314.1           NaN  2020-06-04  South America  Argentina   \n",
       "3            MW553297.1           NaN  2020-06-04  South America  Argentina   \n",
       "4            MW553316.1           NaN  2020-06-04  South America  Argentina   \n",
       "\n",
       "    division  ... QC_rare_mutations QC_snp_clusters QC_frame_shifts  \\\n",
       "0  Argentina  ...              good            good            good   \n",
       "1  Argentina  ...              good            good            good   \n",
       "2  Argentina  ...              good            good            good   \n",
       "3  Argentina  ...              good            good            good   \n",
       "4  Argentina  ...              good            good            good   \n",
       "\n",
       "  QC_stop_codons QC_overall_score  QC_overall_status frame_shifts  \\\n",
       "0           good         0.000000               good          NaN   \n",
       "1           good         0.173611               good          NaN   \n",
       "2           good         0.000000               good          NaN   \n",
       "3           good         0.000000               good          NaN   \n",
       "4           good         0.173611               good          NaN   \n",
       "\n",
       "                                     aaSubstitutions clock_deviation  \\\n",
       "0  ORF1a:T999I,ORF1a:S3149F,ORF1b:P314L,ORF1b:S11...             4.0   \n",
       "1  ORF1a:T999I,ORF1a:S3149F,ORF1b:P314L,ORF1b:S11...             5.0   \n",
       "2  ORF1a:T999I,ORF1a:S3149F,ORF1b:P314L,ORF1b:S11...             4.0   \n",
       "3  ORF1a:T999I,ORF1a:S3149F,ORF1b:P314L,ORF1b:S11...             4.0   \n",
       "4  ORF1a:T999I,ORF1a:S3149F,ORF1b:P314L,ORF1b:S11...             4.0   \n",
       "\n",
       "                                           mutations  \n",
       "0  241_C|T,3037_C|T,3261_C|T,9711_C|T,14408_C|T,1...  \n",
       "1  241_C|T,3037_C|T,3261_C|T,9711_C|T,14408_C|T,1...  \n",
       "2  241_C|T,3037_C|T,3261_C|T,9711_C|T,14408_C|T,1...  \n",
       "3  241_C|T,3037_C|T,3261_C|T,9711_C|T,14408_C|T,1...  \n",
       "4  241_C|T,3037_C|T,3261_C|T,9711_C|T,14408_C|T,1...  \n",
       "\n",
       "[5 rows x 56 columns]"
      ]
     },
     "execution_count": 6,
     "metadata": {},
     "output_type": "execute_result"
    }
   ],
   "source": [
    "# load the metadata\n",
    "df = pd.read_csv('metadata_cleaned.tsv', sep='\\t')\n",
    "df.head()"
   ]
  },
  {
   "cell_type": "code",
   "execution_count": 7,
   "metadata": {},
   "outputs": [
    {
     "data": {
      "text/html": [
       "<div>\n",
       "<style scoped>\n",
       "    .dataframe tbody tr th:only-of-type {\n",
       "        vertical-align: middle;\n",
       "    }\n",
       "\n",
       "    .dataframe tbody tr th {\n",
       "        vertical-align: top;\n",
       "    }\n",
       "\n",
       "    .dataframe thead th {\n",
       "        text-align: right;\n",
       "    }\n",
       "</style>\n",
       "<table border=\"1\" class=\"dataframe\">\n",
       "  <thead>\n",
       "    <tr style=\"text-align: right;\">\n",
       "      <th></th>\n",
       "      <th>name</th>\n",
       "      <th>true_lineage</th>\n",
       "      <th>nuc_changes</th>\n",
       "    </tr>\n",
       "  </thead>\n",
       "  <tbody>\n",
       "    <tr>\n",
       "      <th>0</th>\n",
       "      <td>Denmark/DCGC-313405/2022</td>\n",
       "      <td>XAB</td>\n",
       "      <td>6513_6515,11288_11296,21633_21641,28362_28370,...</td>\n",
       "    </tr>\n",
       "    <tr>\n",
       "      <th>1</th>\n",
       "      <td>Denmark/DCGC-325735/2022</td>\n",
       "      <td>XAB</td>\n",
       "      <td>11288_11296,21633_21641,28362_28370,241_C|T,28...</td>\n",
       "    </tr>\n",
       "    <tr>\n",
       "      <th>2</th>\n",
       "      <td>Denmark/DCGC-405189/2022</td>\n",
       "      <td>XAB</td>\n",
       "      <td>11288_11296,21633_21641,28362_28370,241_C|T,28...</td>\n",
       "    </tr>\n",
       "    <tr>\n",
       "      <th>3</th>\n",
       "      <td>Denmark/DCGC-409430/2022</td>\n",
       "      <td>XAB</td>\n",
       "      <td>6513_6515,11288_11296,28362_28370,241_C|T,2470...</td>\n",
       "    </tr>\n",
       "    <tr>\n",
       "      <th>4</th>\n",
       "      <td>Denmark/DCGC-410519/2022</td>\n",
       "      <td>XAB</td>\n",
       "      <td>6513_6515,11288_11296,21633_21641,28362_28370,...</td>\n",
       "    </tr>\n",
       "  </tbody>\n",
       "</table>\n",
       "</div>"
      ],
      "text/plain": [
       "                       name true_lineage  \\\n",
       "0  Denmark/DCGC-313405/2022          XAB   \n",
       "1  Denmark/DCGC-325735/2022          XAB   \n",
       "2  Denmark/DCGC-405189/2022          XAB   \n",
       "3  Denmark/DCGC-409430/2022          XAB   \n",
       "4  Denmark/DCGC-410519/2022          XAB   \n",
       "\n",
       "                                         nuc_changes  \n",
       "0  6513_6515,11288_11296,21633_21641,28362_28370,...  \n",
       "1  11288_11296,21633_21641,28362_28370,241_C|T,28...  \n",
       "2  11288_11296,21633_21641,28362_28370,241_C|T,28...  \n",
       "3  6513_6515,11288_11296,28362_28370,241_C|T,2470...  \n",
       "4  6513_6515,11288_11296,21633_21641,28362_28370,...  "
      ]
     },
     "execution_count": 7,
     "metadata": {},
     "output_type": "execute_result"
    }
   ],
   "source": [
    "# show the example format of the data that should be created using the metadata above\n",
    "example_path = '../demo/demo_input_nextstrain/samples_XAB.csv'\n",
    "example = pd.read_csv(example_path, sep='\\t' ,nrows=5)\n",
    "example.head()"
   ]
  },
  {
   "cell_type": "code",
   "execution_count": null,
   "metadata": {},
   "outputs": [
    {
     "data": {
      "text/html": [
       "<div>\n",
       "<style scoped>\n",
       "    .dataframe tbody tr th:only-of-type {\n",
       "        vertical-align: middle;\n",
       "    }\n",
       "\n",
       "    .dataframe tbody tr th {\n",
       "        vertical-align: top;\n",
       "    }\n",
       "\n",
       "    .dataframe thead th {\n",
       "        text-align: right;\n",
       "    }\n",
       "</style>\n",
       "<table border=\"1\" class=\"dataframe\">\n",
       "  <thead>\n",
       "    <tr style=\"text-align: right;\">\n",
       "      <th></th>\n",
       "      <th>name</th>\n",
       "      <th>true_lineage</th>\n",
       "      <th>nuc_changes</th>\n",
       "    </tr>\n",
       "  </thead>\n",
       "  <tbody>\n",
       "    <tr>\n",
       "      <th>0</th>\n",
       "      <td>Denmark/DCGC-409430/2022</td>\n",
       "      <td>XAB</td>\n",
       "      <td>6513_6515,11288_11296,28362_28370,241_C|T,2470...</td>\n",
       "    </tr>\n",
       "    <tr>\n",
       "      <th>1</th>\n",
       "      <td>Denmark/DCGC-415376/2022</td>\n",
       "      <td>XAB</td>\n",
       "      <td>6513_6515,11288_11296,21633_21641,28362_28370,...</td>\n",
       "    </tr>\n",
       "    <tr>\n",
       "      <th>2</th>\n",
       "      <td>Denmark/DCGC-496325/2022</td>\n",
       "      <td>XAB</td>\n",
       "      <td>6513_6515,11288_11296,21633_21641,28362_28370,...</td>\n",
       "    </tr>\n",
       "    <tr>\n",
       "      <th>3</th>\n",
       "      <td>Denmark/DCGC-497413/2022</td>\n",
       "      <td>XAB</td>\n",
       "      <td>6513_6515,11288_11296,21633_21641,28362_28370,...</td>\n",
       "    </tr>\n",
       "    <tr>\n",
       "      <th>4</th>\n",
       "      <td>Denmark/DCGC-514342/2022</td>\n",
       "      <td>XAB</td>\n",
       "      <td>6513_6515,11288_11296,21633_21641,28362_28370,...</td>\n",
       "    </tr>\n",
       "  </tbody>\n",
       "</table>\n",
       "</div>"
      ],
      "text/plain": [
       "                       name true_lineage  \\\n",
       "0  Denmark/DCGC-409430/2022          XAB   \n",
       "1  Denmark/DCGC-415376/2022          XAB   \n",
       "2  Denmark/DCGC-496325/2022          XAB   \n",
       "3  Denmark/DCGC-497413/2022          XAB   \n",
       "4  Denmark/DCGC-514342/2022          XAB   \n",
       "\n",
       "                                         nuc_changes  \n",
       "0  6513_6515,11288_11296,28362_28370,241_C|T,2470...  \n",
       "1  6513_6515,11288_11296,21633_21641,28362_28370,...  \n",
       "2  6513_6515,11288_11296,21633_21641,28362_28370,...  \n",
       "3  6513_6515,11288_11296,21633_21641,28362_28370,...  \n",
       "4  6513_6515,11288_11296,21633_21641,28362_28370,...  "
      ]
     },
     "execution_count": 41,
     "metadata": {},
     "output_type": "execute_result"
    }
   ],
   "source": [
    "# ONLY RUN AT THE VERY END\n",
    "# # compare the result with the example\n",
    "# result_path = 'reproduce/demo_input_nextstrain/samples_XAB.csv'\n",
    "# result = pd.read_csv(result_path, sep='\\t', nrows=5)\n",
    "# result.head()"
   ]
  },
  {
   "cell_type": "code",
   "execution_count": 8,
   "metadata": {},
   "outputs": [],
   "source": [
    "# set the needed columns as selected features\n",
    "features = ['strain', 'pango_lineage', 'mutations']"
   ]
  },
  {
   "cell_type": "code",
   "execution_count": 9,
   "metadata": {},
   "outputs": [],
   "source": [
    "def is_recombinant(lineage_name):\n",
    "    lineage_name = lineage_name.upper()\n",
    "    return lineage_name.startswith('X') and not '.' in lineage_name"
   ]
  },
  {
   "cell_type": "code",
   "execution_count": 10,
   "metadata": {},
   "outputs": [],
   "source": [
    "recombinant_rows = df[df['pango_lineage'].apply(is_recombinant)]\n",
    "recombinant_rows = recombinant_rows[features]"
   ]
  },
  {
   "cell_type": "code",
   "execution_count": 11,
   "metadata": {},
   "outputs": [
    {
     "data": {
      "text/html": [
       "<div>\n",
       "<style scoped>\n",
       "    .dataframe tbody tr th:only-of-type {\n",
       "        vertical-align: middle;\n",
       "    }\n",
       "\n",
       "    .dataframe tbody tr th {\n",
       "        vertical-align: top;\n",
       "    }\n",
       "\n",
       "    .dataframe thead th {\n",
       "        text-align: right;\n",
       "    }\n",
       "</style>\n",
       "<table border=\"1\" class=\"dataframe\">\n",
       "  <thead>\n",
       "    <tr style=\"text-align: right;\">\n",
       "      <th></th>\n",
       "      <th>strain</th>\n",
       "      <th>pango_lineage</th>\n",
       "      <th>mutations</th>\n",
       "    </tr>\n",
       "  </thead>\n",
       "  <tbody>\n",
       "    <tr>\n",
       "      <th>11489</th>\n",
       "      <td>BHR/23690002470_S59_L001/2023</td>\n",
       "      <td>XDA</td>\n",
       "      <td>241_C|T,405_A|G,670_T|G,1269_A|G,2790_C|T,3037...</td>\n",
       "    </tr>\n",
       "    <tr>\n",
       "      <th>11501</th>\n",
       "      <td>BHR/24020002741_S53_L001/2024</td>\n",
       "      <td>XDA</td>\n",
       "      <td>241_C|T,405_A|G,670_T|G,981_C|T,1269_A|G,2790_...</td>\n",
       "    </tr>\n",
       "    <tr>\n",
       "      <th>11711</th>\n",
       "      <td>BHR/390105511_S54_L001/2023</td>\n",
       "      <td>XDA</td>\n",
       "      <td>241_C|T,405_A|G,670_T|G,1269_A|G,1912_C|T,2790...</td>\n",
       "    </tr>\n",
       "    <tr>\n",
       "      <th>11743</th>\n",
       "      <td>BHR/490002072_S51_L001/2023</td>\n",
       "      <td>XDA</td>\n",
       "      <td>241_C|T,405_A|G,670_T|G,1269_A|G,2790_C|T,3037...</td>\n",
       "    </tr>\n",
       "    <tr>\n",
       "      <th>11748</th>\n",
       "      <td>BHR/50202278_S4_L001/2023</td>\n",
       "      <td>XDA</td>\n",
       "      <td>241_C|T,405_A|G,670_T|G,981_C|T,1269_A|G,2790_...</td>\n",
       "    </tr>\n",
       "  </tbody>\n",
       "</table>\n",
       "</div>"
      ],
      "text/plain": [
       "                              strain pango_lineage  \\\n",
       "11489  BHR/23690002470_S59_L001/2023           XDA   \n",
       "11501  BHR/24020002741_S53_L001/2024           XDA   \n",
       "11711    BHR/390105511_S54_L001/2023           XDA   \n",
       "11743    BHR/490002072_S51_L001/2023           XDA   \n",
       "11748      BHR/50202278_S4_L001/2023           XDA   \n",
       "\n",
       "                                               mutations  \n",
       "11489  241_C|T,405_A|G,670_T|G,1269_A|G,2790_C|T,3037...  \n",
       "11501  241_C|T,405_A|G,670_T|G,981_C|T,1269_A|G,2790_...  \n",
       "11711  241_C|T,405_A|G,670_T|G,1269_A|G,1912_C|T,2790...  \n",
       "11743  241_C|T,405_A|G,670_T|G,1269_A|G,2790_C|T,3037...  \n",
       "11748  241_C|T,405_A|G,670_T|G,981_C|T,1269_A|G,2790_...  "
      ]
     },
     "execution_count": 11,
     "metadata": {},
     "output_type": "execute_result"
    }
   ],
   "source": [
    "recombinant_rows.head()"
   ]
  },
  {
   "cell_type": "code",
   "execution_count": 12,
   "metadata": {},
   "outputs": [
    {
     "data": {
      "text/plain": [
       "(5523, 3)"
      ]
     },
     "execution_count": 12,
     "metadata": {},
     "output_type": "execute_result"
    }
   ],
   "source": [
    "recombinant_rows.shape"
   ]
  },
  {
   "cell_type": "code",
   "execution_count": 13,
   "metadata": {},
   "outputs": [
    {
     "data": {
      "text/html": [
       "<div>\n",
       "<style scoped>\n",
       "    .dataframe tbody tr th:only-of-type {\n",
       "        vertical-align: middle;\n",
       "    }\n",
       "\n",
       "    .dataframe tbody tr th {\n",
       "        vertical-align: top;\n",
       "    }\n",
       "\n",
       "    .dataframe thead th {\n",
       "        text-align: right;\n",
       "    }\n",
       "</style>\n",
       "<table border=\"1\" class=\"dataframe\">\n",
       "  <thead>\n",
       "    <tr style=\"text-align: right;\">\n",
       "      <th></th>\n",
       "      <th>strain</th>\n",
       "      <th>pango_lineage</th>\n",
       "      <th>mutations</th>\n",
       "    </tr>\n",
       "  </thead>\n",
       "  <tbody>\n",
       "    <tr>\n",
       "      <th>0</th>\n",
       "      <td>BHR/23690002470_S59_L001/2023</td>\n",
       "      <td>XDA</td>\n",
       "      <td>241_C|T,405_A|G,670_T|G,1269_A|G,2790_C|T,3037...</td>\n",
       "    </tr>\n",
       "    <tr>\n",
       "      <th>1</th>\n",
       "      <td>BHR/24020002741_S53_L001/2024</td>\n",
       "      <td>XDA</td>\n",
       "      <td>241_C|T,405_A|G,670_T|G,981_C|T,1269_A|G,2790_...</td>\n",
       "    </tr>\n",
       "    <tr>\n",
       "      <th>2</th>\n",
       "      <td>BHR/390105511_S54_L001/2023</td>\n",
       "      <td>XDA</td>\n",
       "      <td>241_C|T,405_A|G,670_T|G,1269_A|G,1912_C|T,2790...</td>\n",
       "    </tr>\n",
       "    <tr>\n",
       "      <th>3</th>\n",
       "      <td>BHR/490002072_S51_L001/2023</td>\n",
       "      <td>XDA</td>\n",
       "      <td>241_C|T,405_A|G,670_T|G,1269_A|G,2790_C|T,3037...</td>\n",
       "    </tr>\n",
       "    <tr>\n",
       "      <th>4</th>\n",
       "      <td>BHR/50202278_S4_L001/2023</td>\n",
       "      <td>XDA</td>\n",
       "      <td>241_C|T,405_A|G,670_T|G,981_C|T,1269_A|G,2790_...</td>\n",
       "    </tr>\n",
       "  </tbody>\n",
       "</table>\n",
       "</div>"
      ],
      "text/plain": [
       "                          strain pango_lineage  \\\n",
       "0  BHR/23690002470_S59_L001/2023           XDA   \n",
       "1  BHR/24020002741_S53_L001/2024           XDA   \n",
       "2    BHR/390105511_S54_L001/2023           XDA   \n",
       "3    BHR/490002072_S51_L001/2023           XDA   \n",
       "4      BHR/50202278_S4_L001/2023           XDA   \n",
       "\n",
       "                                           mutations  \n",
       "0  241_C|T,405_A|G,670_T|G,1269_A|G,2790_C|T,3037...  \n",
       "1  241_C|T,405_A|G,670_T|G,981_C|T,1269_A|G,2790_...  \n",
       "2  241_C|T,405_A|G,670_T|G,1269_A|G,1912_C|T,2790...  \n",
       "3  241_C|T,405_A|G,670_T|G,1269_A|G,2790_C|T,3037...  \n",
       "4  241_C|T,405_A|G,670_T|G,981_C|T,1269_A|G,2790_...  "
      ]
     },
     "execution_count": 13,
     "metadata": {},
     "output_type": "execute_result"
    }
   ],
   "source": [
    "recombinant_rows.reset_index(drop=True, inplace=True)\n",
    "recombinant_rows.head()"
   ]
  },
  {
   "cell_type": "code",
   "execution_count": 14,
   "metadata": {},
   "outputs": [
    {
     "data": {
      "text/html": [
       "<div>\n",
       "<style scoped>\n",
       "    .dataframe tbody tr th:only-of-type {\n",
       "        vertical-align: middle;\n",
       "    }\n",
       "\n",
       "    .dataframe tbody tr th {\n",
       "        vertical-align: top;\n",
       "    }\n",
       "\n",
       "    .dataframe thead th {\n",
       "        text-align: right;\n",
       "    }\n",
       "</style>\n",
       "<table border=\"1\" class=\"dataframe\">\n",
       "  <thead>\n",
       "    <tr style=\"text-align: right;\">\n",
       "      <th></th>\n",
       "      <th>name</th>\n",
       "      <th>true_lineage</th>\n",
       "      <th>nuc_changes</th>\n",
       "    </tr>\n",
       "  </thead>\n",
       "  <tbody>\n",
       "    <tr>\n",
       "      <th>0</th>\n",
       "      <td>BHR/23690002470_S59_L001/2023</td>\n",
       "      <td>XDA</td>\n",
       "      <td>241_C|T,405_A|G,670_T|G,1269_A|G,2790_C|T,3037...</td>\n",
       "    </tr>\n",
       "    <tr>\n",
       "      <th>1</th>\n",
       "      <td>BHR/24020002741_S53_L001/2024</td>\n",
       "      <td>XDA</td>\n",
       "      <td>241_C|T,405_A|G,670_T|G,981_C|T,1269_A|G,2790_...</td>\n",
       "    </tr>\n",
       "    <tr>\n",
       "      <th>2</th>\n",
       "      <td>BHR/390105511_S54_L001/2023</td>\n",
       "      <td>XDA</td>\n",
       "      <td>241_C|T,405_A|G,670_T|G,1269_A|G,1912_C|T,2790...</td>\n",
       "    </tr>\n",
       "    <tr>\n",
       "      <th>3</th>\n",
       "      <td>BHR/490002072_S51_L001/2023</td>\n",
       "      <td>XDA</td>\n",
       "      <td>241_C|T,405_A|G,670_T|G,1269_A|G,2790_C|T,3037...</td>\n",
       "    </tr>\n",
       "    <tr>\n",
       "      <th>4</th>\n",
       "      <td>BHR/50202278_S4_L001/2023</td>\n",
       "      <td>XDA</td>\n",
       "      <td>241_C|T,405_A|G,670_T|G,981_C|T,1269_A|G,2790_...</td>\n",
       "    </tr>\n",
       "  </tbody>\n",
       "</table>\n",
       "</div>"
      ],
      "text/plain": [
       "                            name true_lineage  \\\n",
       "0  BHR/23690002470_S59_L001/2023          XDA   \n",
       "1  BHR/24020002741_S53_L001/2024          XDA   \n",
       "2    BHR/390105511_S54_L001/2023          XDA   \n",
       "3    BHR/490002072_S51_L001/2023          XDA   \n",
       "4      BHR/50202278_S4_L001/2023          XDA   \n",
       "\n",
       "                                         nuc_changes  \n",
       "0  241_C|T,405_A|G,670_T|G,1269_A|G,2790_C|T,3037...  \n",
       "1  241_C|T,405_A|G,670_T|G,981_C|T,1269_A|G,2790_...  \n",
       "2  241_C|T,405_A|G,670_T|G,1269_A|G,1912_C|T,2790...  \n",
       "3  241_C|T,405_A|G,670_T|G,1269_A|G,2790_C|T,3037...  \n",
       "4  241_C|T,405_A|G,670_T|G,981_C|T,1269_A|G,2790_...  "
      ]
     },
     "execution_count": 14,
     "metadata": {},
     "output_type": "execute_result"
    }
   ],
   "source": [
    "recombinant_rows = recombinant_rows.rename(columns={\n",
    "    'strain': 'name',\n",
    "    'pango_lineage': 'true_lineage',\n",
    "    'mutations': 'nuc_changes'\n",
    "})\n",
    "recombinant_rows.head()"
   ]
  },
  {
   "cell_type": "code",
   "execution_count": 15,
   "metadata": {},
   "outputs": [],
   "source": [
    "from tqdm.auto import tqdm\n",
    "from collections import defaultdict\n",
    "import json"
   ]
  },
  {
   "cell_type": "code",
   "execution_count": 19,
   "metadata": {},
   "outputs": [],
   "source": [
    "lineage_groups = list(recombinant_rows.groupby('true_lineage'))\n",
    "total_groups = len(lineage_groups)"
   ]
  },
  {
   "cell_type": "code",
   "execution_count": 20,
   "metadata": {},
   "outputs": [],
   "source": [
    "lineage_counts = defaultdict(int)"
   ]
  },
  {
   "cell_type": "code",
   "execution_count": 21,
   "metadata": {},
   "outputs": [
    {
     "data": {
      "application/vnd.jupyter.widget-view+json": {
       "model_id": "503312b57c1445f8af5c39fb27330186",
       "version_major": 2,
       "version_minor": 0
      },
      "text/plain": [
       "Processing Lineages:   0%|          | 0/98 [00:00<?, ?file/s]"
      ]
     },
     "metadata": {},
     "output_type": "display_data"
    },
    {
     "name": "stdout",
     "output_type": "stream",
     "text": [
      "\n",
      "✅ All recombinant samples saved!\n"
     ]
    }
   ],
   "source": [
    "with tqdm(lineage_groups, desc='Processing Lineages', unit='file') as pbar:\n",
    "    for lineage, group in pbar:\n",
    "        output_path = f'./demo_input_nextstrain/samples_{lineage}.csv'\n",
    "        group.to_csv(\n",
    "            output_path,\n",
    "            sep='\\t',\n",
    "            index=False,\n",
    "            header=True\n",
    "        )\n",
    "\n",
    "        lineage_counts[lineage] = len(group)\n",
    "\n",
    "        pbar.set_postfix({\n",
    "            'Current': lineage,\n",
    "            'Saved': f\"{pbar.n + 1}/{total_groups}\"\n",
    "        })\n",
    "\n",
    "with open('./demo_input_nextstrain/samples_total.json', 'w') as f:\n",
    "    json.dump(lineage_counts, f)\n",
    "\n",
    "print(\"\\n✅ All recombinant samples saved!\")"
   ]
  },
  {
   "cell_type": "code",
   "execution_count": null,
   "metadata": {},
   "outputs": [],
   "source": []
  }
 ],
 "metadata": {
  "kernelspec": {
   "display_name": "hunter",
   "language": "python",
   "name": "python3"
  },
  "language_info": {
   "codemirror_mode": {
    "name": "ipython",
    "version": 3
   },
   "file_extension": ".py",
   "mimetype": "text/x-python",
   "name": "python",
   "nbconvert_exporter": "python",
   "pygments_lexer": "ipython3",
   "version": "3.10.12"
  }
 },
 "nbformat": 4,
 "nbformat_minor": 2
}
